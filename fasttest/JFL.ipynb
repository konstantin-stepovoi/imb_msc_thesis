{
 "cells": [
  {
   "cell_type": "code",
   "execution_count": 10,
   "id": "25a016b8-c0f6-4480-be93-9725fabe2037",
   "metadata": {},
   "outputs": [
    {
     "name": "stdout",
     "output_type": "stream",
     "text": [
      "expressions: [49, 40, 36, 13, 17, 0, 51, 19, 35, 24]\n",
      "Domens: [(369, 122316), (122432, 250032), (250764, 385001), (385610, 494319), (494729, 620371), (621061, 756493), (756904, 863709), (864458, 962240), (962417, 1099542), (1099757, 1222988)]\n",
      "Genes: [(98466, 208131), (224652, 265631), (302647, 312044), (420097, 455922), (597304, 746008), (990405, 1066907), (1121584, 1125949), (1183083, 1260046), (1481269, 1498746), (1705790, 1748329)]\n"
     ]
    }
   ],
   "source": [
    "import random\n",
    "def process_bed_files(file1, file2):\n",
    "    # Открываем файлы и читаем строки\n",
    "    with open(file1, 'r') as f1, open(file2, 'r') as f2:\n",
    "        lines1 = f1.readlines()\n",
    "        lines2 = f2.readlines()\n",
    "\n",
    "    # Создаем два пустых списка\n",
    "    list1 = []\n",
    "    list2 = []\n",
    "\n",
    "    # Функция для обработки строк и заполнения списка\n",
    "    def process_lines(lines, result_list):\n",
    "        for line in lines:\n",
    "            if line.startswith(\"chr\"):\n",
    "                parts = line.split()\n",
    "                if len(parts) >= 3:\n",
    "                    # Получаем chr3 и два числа\n",
    "                    chr_part = parts[0]\n",
    "                    try:\n",
    "                        num1 = int(parts[1])\n",
    "                        num2 = int(parts[2])\n",
    "                        result_list.append((num1, num2))\n",
    "                    except ValueError:\n",
    "                        continue  # Пропускаем строки с некорректными числами\n",
    "\n",
    "    # Обрабатываем оба файла\n",
    "    process_lines(lines1, list1)\n",
    "    process_lines(lines2, list2)\n",
    "\n",
    "    return list1, list2\n",
    "\n",
    "# Пример использования\n",
    "file1 = \"randomD.00001.bed\"\n",
    "file2 = \"randomG.00001.bed\"\n",
    "Domens, Genes = process_bed_files(file1, file2)\n",
    "expressions = [random.randint(0, 55) for _ in range(len(Genes))]\n",
    "\n",
    "# Выводим результат\n",
    "print(\"expressions:\", expressions[:10])\n",
    "# Выводим результат\n",
    "print(\"Domens:\", Domens[:10])\n",
    "print(\"Genes:\", Genes[:10])\n"
   ]
  },
  {
   "cell_type": "code",
   "execution_count": 18,
   "id": "319aea68-e779-49db-8708-31dfc661e0d8",
   "metadata": {},
   "outputs": [],
   "source": [
    "import numpy as np\n",
    "\n",
    "gene_lengths = [end - start for start, end in Genes]\n",
    "\n",
    "# Считаем среднюю длину\n",
    "mean_gene_len = sum(gene_lengths) / len(gene_lengths) if gene_lengths else 0\n",
    "\n",
    "\n",
    "\n",
    "def map_genes_to_domains(Domens, Genes, expressions):\n",
    "    # Создаем пустой массив для доменов\n",
    "    arr_of_domens = np.empty(len(Domens), dtype=object)\n",
    "\n",
    "    # Указатель на текущий ген\n",
    "    gene_index = 0\n",
    "\n",
    "    # Проходим по каждому домену\n",
    "    for domain_index, (dom_start, dom_end) in enumerate(Domens):\n",
    "        this_domen = []\n",
    "\n",
    "        # Сдвигаем указатель генов, пока ген полностью \"до\" домена\n",
    "        while gene_index < len(Genes) and Genes[gene_index][1] < dom_start:\n",
    "            gene_index += 1\n",
    "\n",
    "        # Обрабатываем гены, которые пересекаются с доменом\n",
    "        temp_index = gene_index  # Сохраняем текущую позицию указателя\n",
    "        while temp_index < len(Genes) and Genes[temp_index][0] < dom_end:\n",
    "            gene_start, gene_end = Genes[temp_index]\n",
    "            gene_length = gene_end - gene_start\n",
    "            expression = expressions[temp_index]\n",
    "\n",
    "            # Полное вхождение гена в домен\n",
    "            if dom_start <= gene_start and gene_end <= dom_end:\n",
    "                this_domen.append(expression)\n",
    "\n",
    "            # Полное покрытие домена геном\n",
    "            elif gene_start <= dom_start and dom_end <= gene_end:\n",
    "                overlap_length = dom_end - dom_start\n",
    "                this_domen.append(expression * (overlap_length / gene_length))\n",
    "\n",
    "            # Ген перекрывает левую границу домена\n",
    "            elif gene_start < dom_start < gene_end <= dom_end:\n",
    "                overlap_length = gene_end - dom_start\n",
    "                this_domen.append(expression * (overlap_length / gene_length))\n",
    "\n",
    "            # Ген перекрывает правую границу домена\n",
    "            elif dom_start <= gene_start < dom_end < gene_end:\n",
    "                overlap_length = dom_end - gene_start\n",
    "                this_domen.append(expression * (overlap_length / gene_length))\n",
    "\n",
    "            # Переход к следующему гену\n",
    "            temp_index += 1\n",
    "\n",
    "        arr_of_domens[domain_index] = np.array(this_domen)\n",
    "\n",
    "    return arr_of_domens\n"
   ]
  },
  {
   "cell_type": "code",
   "execution_count": 21,
   "id": "851bb355-c95c-49f8-b92f-0bc7a9fa796e",
   "metadata": {},
   "outputs": [],
   "source": [
    "def count_statvalues(arr_of_domens: np.ndarray) -> tuple:\n",
    "    means = []\n",
    "    variances = []\n",
    "\n",
    "    for domen in arr_of_domens:\n",
    "        if domen is not None and len(domen) > 0:\n",
    "            means.append(np.mean(domen))\n",
    "            variances.append(np.var(domen))\n",
    "    \n",
    "    overall_mean = np.mean(means) if means else None\n",
    "    overall_dispersion = np.mean(variances) if variances else None\n",
    "\n",
    "    return overall_mean, overall_dispersion\n",
    "\n",
    "def z_criterium(mu1: float, mu2: float, sig1: float, sig2: float, n: int) -> float:\n",
    "    return (mu1 - mu2) / np.sqrt(sig1/n + sig2/n)\n",
    "\n",
    "def rotate_genes(Domens, Genes, expressions, shift_value):\n",
    "    # Находим общую длину хромосомы (конец последнего гена)\n",
    "    chrom_length = max(gene[1] for gene in Genes)\n",
    "\n",
    "    # Сдвигаем координаты всех генов\n",
    "    new_genes = []\n",
    "    for start, end in Genes:\n",
    "        new_start = (start + shift_value) % chrom_length\n",
    "        new_end = (end + shift_value) % chrom_length\n",
    "        new_genes.append((new_start, new_end))\n",
    "\n",
    "    # Массив expressions должен быть также сдвинут\n",
    "    new_expressions = expressions[-shift_value % len(expressions):] + expressions[:-shift_value % len(expressions)]\n",
    "\n",
    "    # Вызываем функцию маппинга с новыми сдвинутыми данными\n",
    "    arr_of_domens = map_genes_to_domains(Domens, new_genes, new_expressions)\n",
    "\n",
    "    return arr_of_domens"
   ]
  },
  {
   "cell_type": "code",
   "execution_count": 24,
   "id": "dbcefe15-df00-4c73-a841-4444e236da37",
   "metadata": {},
   "outputs": [],
   "source": [
    "def one_chromosome_rework(arr_of_domens) -> float:\n",
    "\n",
    "    mu1, d1 = count_statvalues(arr_of_domens)\n",
    "    mu_list, d_list = [], []\n",
    "    \n",
    "    for _ in range(10000): # ЭТО НАДО БУДЕТ ПОМЕНЯТЬ!!!!!!!\n",
    "        shift_value = int(np.random.rand() * mean_gene_len)\n",
    "        new_arr_of_domens = rotate_genes(Domens, Genes, expressions, shift_value)\n",
    "        mu2, d2 = count_statvalues(new_arr_of_domens)\n",
    "        if mu2 is not None:\n",
    "            mu_list.append(mu2)\n",
    "        if d2 is not None:\n",
    "            d_list.append(d2)\n",
    "\n",
    "    mu2 = np.mean(mu_list)\n",
    "    d2 = np.mean(d_list)\n",
    "    return z_criterium(mu1, mu2, d1, d2, len(Genes))"
   ]
  },
  {
   "cell_type": "code",
   "execution_count": 4,
   "id": "2829bc41-7d32-49b1-a933-0e5bcd95f317",
   "metadata": {},
   "outputs": [
    {
     "data": {
      "image/png": "[encoded data removed]",
      "text/plain": [
       "<Figure size 640x480 with 1 Axes>"
      ]
     },
     "metadata": {},
     "output_type": "display_data"
    }
   ],
   "source": [
    "import numpy as np\n",
    "import matplotlib.pyplot as plt\n",
    "from scipy.stats import norm, kstest\n",
    "\n",
    "# Чтение данных из stats.txt\n",
    "with open('stats.txt', 'r') as file:\n",
    "    data = [float(line.strip()) for line in file]\n",
    "\n",
    "data = [a + 1 for a in data]\n",
    "# Количество столбцов в гистограмме (корень из количества чисел)\n",
    "bins = int(np.sqrt(len(data)))\n",
    "\n",
    "# Построение гистограммы\n",
    "plt.hist(data, bins=bins, density=True, alpha=0.6, color='blue', label='Data')\n",
    "\n",
    "# Фитируем нормальное распределение\n",
    "mean, std = norm.fit(data)\n",
    "x = np.linspace(min(data), max(data), 100)\n",
    "pdf = norm.pdf(x, mean, std)\n",
    "\n",
    "# График нормального распределения\n",
    "plt.plot(x, pdf, 'r-', label=f'Normal fit\\nMean={mean:.2f}, Std={std:.2f}')\n",
    "plt.legend()\n",
    "\n",
    "# Проверка на нормальность (тест Колмогорова-Смирнова)\n",
    "ks_stat, p_value = kstest(data, 'norm', args=(mean, std))\n",
    "plt.title(f'KS Test: D={ks_stat:.3f}, p={p_value:.3f}')\n",
    "\n",
    "# Сохранение и показ графика\n",
    "plt.xlabel('Value')\n",
    "plt.ylabel('Density')\n",
    "plt.savefig('histogram.png')\n",
    "plt.show()\n"
   ]
  },
  {
   "cell_type": "code",
   "execution_count": 5,
   "id": "79fc578c-cb0f-44a2-b4bf-9beee327ef51",
   "metadata": {},
   "outputs": [
    {
     "name": "stdout",
     "output_type": "stream",
     "text": [
      "-1.7367798959629756e+21\n"
     ]
    }
   ],
   "source": [
    "import time\n",
    "import numpy as np\n",
    "test = np.linspace(1, 100, 99)\n",
    "start = time.time()\n",
    "mu = np.mean(test)\n",
    "print((start-float(time.time()))*10e11)"
   ]
  },
  {
   "cell_type": "code",
   "execution_count": 2,
   "id": "b0e714c5-3d89-4984-83ae-918b9af128ca",
   "metadata": {},
   "outputs": [
    {
     "ename": "NameError",
     "evalue": "name 'mean_gene_len' is not defined",
     "output_type": "error",
     "traceback": [
      "\u001b[1;31m---------------------------------------------------------------------------\u001b[0m",
      "\u001b[1;31mNameError\u001b[0m                                 Traceback (most recent call last)",
      "Cell \u001b[1;32mIn[2], line 5\u001b[0m\n\u001b[0;32m      3\u001b[0m res \u001b[38;5;241m=\u001b[39m []\n\u001b[0;32m      4\u001b[0m \u001b[38;5;28;01mfor\u001b[39;00m _ \u001b[38;5;129;01min\u001b[39;00m \u001b[38;5;28mrange\u001b[39m(\u001b[38;5;241m1000\u001b[39m):\n\u001b[1;32m----> 5\u001b[0m     shift_value \u001b[38;5;241m=\u001b[39m \u001b[38;5;28mint\u001b[39m(np\u001b[38;5;241m.\u001b[39mrandom\u001b[38;5;241m.\u001b[39mrand() \u001b[38;5;241m*\u001b[39m \u001b[43mmean_gene_len\u001b[49m)\n\u001b[0;32m      6\u001b[0m     shift_value \u001b[38;5;241m=\u001b[39m shift_value\u001b[38;5;241m*\u001b[39mnp\u001b[38;5;241m.\u001b[39mrandom\u001b[38;5;241m.\u001b[39mchoice([\u001b[38;5;241m-\u001b[39m\u001b[38;5;241m1\u001b[39m, \u001b[38;5;241m1\u001b[39m])\n\u001b[0;32m      7\u001b[0m     res\u001b[38;5;241m.\u001b[39mappend(shift_value)\n",
      "\u001b[1;31mNameError\u001b[0m: name 'mean_gene_len' is not defined"
     ]
    }
   ],
   "source": [
    "import numpy as np\n",
    "import matplotlib.pyplot as plt\n",
    "res = []\n",
    "for _ in range(1000):\n",
    "    shift_value = int(np.random.rand() * mean_gene_len)\n",
    "    shift_value = shift_value*np.random.choice([-1, 1])\n",
    "    res.append(shift_value)\n",
    "plt.hist(res)\n",
    "plt.show()"
   ]
  },
  {
   "cell_type": "code",
   "execution_count": null,
   "id": "d2d36b8b-8ec9-40bb-81aa-3cc95549fb19",
   "metadata": {},
   "outputs": [],
   "source": []
  }
 ],
 "metadata": {
  "kernelspec": {
   "display_name": "Python 3 (ipykernel)",
   "language": "python",
   "name": "python3"
  },
  "language_info": {
   "codemirror_mode": {
    "name": "ipython",
    "version": 3
   },
   "file_extension": ".py",
   "mimetype": "text/x-python",
   "name": "python",
   "nbconvert_exporter": "python",
   "pygments_lexer": "ipython3",
   "version": "3.12.1"
  }
 },
 "nbformat": 4,
 "nbformat_minor": 5
}
